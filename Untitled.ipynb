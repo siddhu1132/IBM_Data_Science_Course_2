{
 "cells": [
  {
   "cell_type": "markdown",
   "id": "4557de0b-04fe-44c5-b297-ebba02f4e039",
   "metadata": {},
   "source": [
    "# My Jupyter Notebook on IBM Watson Studio"
   ]
  },
  {
   "cell_type": "markdown",
   "id": "8b772f4b-34a8-4d88-9cc2-cfe980dd5286",
   "metadata": {},
   "source": [
    " **SIDDHARTHA GADIPARTHI**\n",
    "\n",
    "I finished my Masters and searching for job in Data Science."
   ]
  },
  {
   "cell_type": "markdown",
   "id": "28dbbc08-c20f-4d38-b43a-b1a97cea577a",
   "metadata": {},
   "source": [
    "*I am interested in Data Science because i am interested in measuring and diving into the insights of data. It is a challenging work to me.*"
   ]
  },
  {
   "cell_type": "markdown",
   "id": "0bcd87a3-f069-473e-8422-2a0b34c4f0b3",
   "metadata": {},
   "source": [
    "### The following code is about the list of fruits"
   ]
  },
  {
   "cell_type": "code",
   "execution_count": 4,
   "id": "8e047ecc-8df6-4c8d-92c8-fb144e32625b",
   "metadata": {},
   "outputs": [
    {
     "data": {
      "text/plain": [
       "['Mango', 'Grapes', 'Apple', 'Banana']"
      ]
     },
     "execution_count": 4,
     "metadata": {},
     "output_type": "execute_result"
    }
   ],
   "source": [
    "Fruits = ['Mango', 'Grapes', 'Apple', 'Banana']\n",
    "Fruits"
   ]
  },
  {
   "cell_type": "markdown",
   "id": "9ac815e7-0f6c-4ea3-b121-bd2d64009fd3",
   "metadata": {},
   "source": [
    "***\n",
    "1. Numbered list\n",
    "- Bulleted items"
   ]
  },
  {
   "cell_type": "code",
   "execution_count": null,
   "id": "33c8bf78-04ca-49b0-9e6e-633cf599f16e",
   "metadata": {},
   "outputs": [],
   "source": []
  }
 ],
 "metadata": {
  "kernelspec": {
   "display_name": "Python",
   "language": "python",
   "name": "conda-env-python-py"
  },
  "language_info": {
   "codemirror_mode": {
    "name": "ipython",
    "version": 3
   },
   "file_extension": ".py",
   "mimetype": "text/x-python",
   "name": "python",
   "nbconvert_exporter": "python",
   "pygments_lexer": "ipython3",
   "version": "3.7.12"
  }
 },
 "nbformat": 4,
 "nbformat_minor": 5
}
